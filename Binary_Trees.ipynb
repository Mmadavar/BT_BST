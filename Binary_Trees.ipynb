{
  "nbformat": 4,
  "nbformat_minor": 0,
  "metadata": {
    "colab": {
      "provenance": []
    },
    "kernelspec": {
      "name": "python3",
      "display_name": "Python 3"
    },
    "language_info": {
      "name": "python"
    }
  },
  "cells": [
    {
      "cell_type": "code",
      "execution_count": null,
      "metadata": {
        "id": "T0YBvyuipluD"
      },
      "outputs": [],
      "source": [
        "class TreeNode:\n",
        "  def __init__(self, val, left=None, right=None):\n",
        "    self.val = val\n",
        "    self.left = left\n",
        "    self.right = right\n",
        "\n",
        "  def __str__(self):\n",
        "    return str(self.val)\n",
        "\n",
        ""
      ]
    },
    {
      "cell_type": "code",
      "source": [
        "A = TreeNode(1)\n",
        "B = TreeNode(2)\n",
        "C = TreeNode(3)\n",
        "D = TreeNode(4)\n",
        "E = TreeNode(5)\n",
        "F = TreeNode(6)\n",
        "\n",
        "A.left = B\n",
        "A.right = C\n",
        "B.left = D\n",
        "B.right = E\n",
        "C.left = F\n",
        "\n",
        "print(A)"
      ],
      "metadata": {
        "id": "v2dZoTrQqIQj"
      },
      "execution_count": null,
      "outputs": []
    },
    {
      "cell_type": "code",
      "source": [
        "#recrusive Pre order traversal\n",
        "\n",
        "def pre_order(node):\n",
        "  if not node:\n",
        "    return\n",
        "  else:\n",
        "    print(node)\n",
        "    pre_order(node.left)\n",
        "    pre_order(node.right)\n",
        "\n",
        "\n",
        "#recursive for inorder traversal\n",
        "\n",
        "def in_order(node):\n",
        "  if not node:\n",
        "    return\n",
        "  else:\n",
        "    in_order(node.left)\n",
        "    print(node)\n",
        "    in_order(node.right)"
      ],
      "metadata": {
        "id": "jlWtGqAqqf0o"
      },
      "execution_count": null,
      "outputs": []
    },
    {
      "cell_type": "code",
      "source": [
        "def post_order(node):\n",
        "  if not nide:\n",
        "    return\n",
        "  else:\n",
        "    post_order(node.left)\n",
        "    post_order(node.right)\n",
        "    print(node)"
      ],
      "metadata": {
        "id": "rcMGq8fgQpBb"
      },
      "execution_count": null,
      "outputs": []
    },
    {
      "cell_type": "code",
      "source": [
        "#preorder traversal (DFS) Time: O(n), Space: O(n)\n",
        "def pre_order_iterative(node):\n",
        "  stack = [node]\n",
        "  while stack:\n",
        "    node = stack.pop()\n",
        "    print(node)\n",
        "    if node.right:\n",
        "      stack.append(node.right)\n",
        "    if node.left:\n",
        "      stack.append(node.left)\n"
      ],
      "metadata": {
        "id": "vp9UKkWwQ3W4"
      },
      "execution_count": null,
      "outputs": []
    },
    {
      "cell_type": "code",
      "source": [
        "#level Order Traversal (BFS) Time: O(n), Space: O(n)\n",
        "\n",
        "from collections import deque\n",
        "def level_order(node):\n",
        "  queue = deque()\n",
        "  queue.append(node)\n",
        "  while queue:\n",
        "    node = queue.popleft()\n",
        "    print(node)\n",
        "    if node.left:\n",
        "      queue.append(node.left)\n",
        "    if node.right:\n",
        "      queue.append(node.right)\n"
      ],
      "metadata": {
        "id": "pKMQbD9jSF9x"
      },
      "execution_count": null,
      "outputs": []
    },
    {
      "cell_type": "code",
      "source": [
        "#check is value exists (DFS) Time: O(n), Space: O(n)\n",
        "\n",
        "def search(node, target):\n",
        "  if not node:\n",
        "    return False\n",
        "    if node.val == target:\n",
        "      return True\n",
        "    else:\n",
        "      return search(node.left, target) or search(node.right, target)\n",
        ""
      ],
      "metadata": {
        "id": "JNI9eX76W6fl"
      },
      "execution_count": null,
      "outputs": []
    },
    {
      "cell_type": "code",
      "source": [
        "#Binary search tree\n",
        "A2 = TreeNode(2)\n",
        "B2 = TreeNode(1)\n",
        "C2 = TreeNode(3)\n",
        "D2 = TreeNode(4)\n",
        "E2 = TreeNode(5)\n",
        "F2 = TreeNode(6)\n",
        "G2 = TreeNode(7)\n",
        "\n",
        "A2.left = B2\n",
        "A2.right = C2\n",
        "B2.left = D2\n",
        "B2.right = E2\n",
        "C2.left = F2\n",
        "C2.right = G2\n",
        "\n",
        "print(A2)"
      ],
      "metadata": {
        "id": "0K3cMBR7Xef8"
      },
      "execution_count": null,
      "outputs": []
    },
    {
      "cell_type": "code",
      "source": [
        "in_order(A2)\n",
        "\n",
        "# Time: O(log n), Space: O(log n)\n",
        "\n",
        "def search_bst(node, target):\n",
        "  if not node:\n",
        "    return False\n",
        "  if node.val == target:\n",
        "    return True\n",
        "  if node.val > target:\n",
        "    return search_bst(node.left, target)\n",
        "  else:\n",
        "    return search_bst(node.right, target)\n",
        ""
      ],
      "metadata": {
        "id": "PGGMIGS4Xvab"
      },
      "execution_count": null,
      "outputs": []
    }
  ]
}